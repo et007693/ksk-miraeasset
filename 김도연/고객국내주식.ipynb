{
 "cells": [
  {
   "cell_type": "code",
   "execution_count": 1,
   "id": "47966384",
   "metadata": {},
   "outputs": [],
   "source": [
    "import pandas as pd\n",
    "import numpy as np"
   ]
  },
  {
   "cell_type": "code",
   "execution_count": 2,
   "id": "4293cb59",
   "metadata": {
    "scrolled": true
   },
   "outputs": [
    {
     "name": "stderr",
     "output_type": "stream",
     "text": [
      "C:\\ProgramData\\Anaconda3\\lib\\site-packages\\IPython\\core\\interactiveshell.py:3165: DtypeWarning: Columns (31,32,33,62,63,64,93,94,95,124,125,126,221,389) have mixed types.Specify dtype option on import or set low_memory=False.\n",
      "  has_raised = await self.run_ast_nodes(code_ast.body, cell_name,\n"
     ]
    }
   ],
   "source": [
    "custom = pd.read_csv('../data/cs_mkt_dataset/cs_data.csv')"
   ]
  },
  {
   "cell_type": "code",
   "execution_count": 5,
   "id": "b2a99824",
   "metadata": {},
   "outputs": [
    {
     "data": {
      "text/plain": [
       "[['BUY1_ITM_M1_1', 'BUY1_MKT_M1_1'],\n",
       " ['BUY1_ITM_M1_2', 'BUY1_MKT_M1_2'],\n",
       " ['BUY1_ITM_M1_3', 'BUY1_MKT_M1_3'],\n",
       " ['BUY1_ITM_M2_1', 'BUY1_MKT_M2_1'],\n",
       " ['BUY1_ITM_M2_2', 'BUY1_MKT_M2_2'],\n",
       " ['BUY1_ITM_M2_3', 'BUY1_MKT_M2_3'],\n",
       " ['BUY1_ITM_M3_1', 'BUY1_MKT_M3_1'],\n",
       " ['BUY1_ITM_M3_2', 'BUY1_MKT_M3_2'],\n",
       " ['BUY1_ITM_M3_3', 'BUY1_MKT_M3_3'],\n",
       " ['BUY1_ITM_M4_1', 'BUY1_MKT_M4_1'],\n",
       " ['BUY1_ITM_M4_2', 'BUY1_MKT_M4_2'],\n",
       " ['BUY1_ITM_M4_3', 'BUY1_MKT_M4_3']]"
      ]
     },
     "execution_count": 5,
     "metadata": {},
     "output_type": "execute_result"
    }
   ],
   "source": [
    "col=[]\n",
    "for i in range(1,5):\n",
    "    for j in range(1,4):\n",
    "        col.append([f'BUY1_ITM_M{i}_{j}',f'BUY1_MKT_M{i}_{j}'])\n",
    "col"
   ]
  },
  {
   "cell_type": "code",
   "execution_count": 6,
   "id": "8e9a9467",
   "metadata": {},
   "outputs": [
    {
     "data": {
      "text/plain": [
       "2743"
      ]
     },
     "execution_count": 6,
     "metadata": {},
     "output_type": "execute_result"
    }
   ],
   "source": [
    "result=set\n",
    "for i in range(12):\n",
    "    buy= custom.loc[:,col[i]]\n",
    "    buy_ov= buy[buy[col[i][1]].isin(['코스피', '코스닥'])]\n",
    "    buy_uniq= buy_ov.iloc[:,0].unique()\n",
    "    result= result.union(set(buy_uniq))\n",
    "len(result)"
   ]
  },
  {
   "cell_type": "code",
   "execution_count": 19,
   "id": "4b826a51",
   "metadata": {},
   "outputs": [],
   "source": [
    "# 전체 국내주식종목 (개별, etf포함)\n",
    "pd.DataFrame(result, dtype=str).to_csv('고객국내주식.csv', index=False)"
   ]
  },
  {
   "cell_type": "code",
   "execution_count": 10,
   "id": "00f24282",
   "metadata": {},
   "outputs": [
    {
     "data": {
      "text/plain": [
       "array(['453540', '049080', '049950', ..., '110990', '003475', '006880'],\n",
       "      dtype=object)"
      ]
     },
     "execution_count": 10,
     "metadata": {},
     "output_type": "execute_result"
    }
   ],
   "source": [
    "buy_uniq"
   ]
  },
  {
   "cell_type": "code",
   "execution_count": 20,
   "id": "c61aa4f7",
   "metadata": {},
   "outputs": [
    {
     "data": {
      "text/html": [
       "<div>\n",
       "<style scoped>\n",
       "    .dataframe tbody tr th:only-of-type {\n",
       "        vertical-align: middle;\n",
       "    }\n",
       "\n",
       "    .dataframe tbody tr th {\n",
       "        vertical-align: top;\n",
       "    }\n",
       "\n",
       "    .dataframe thead th {\n",
       "        text-align: right;\n",
       "    }\n",
       "</style>\n",
       "<table border=\"1\" class=\"dataframe\">\n",
       "  <thead>\n",
       "    <tr style=\"text-align: right;\">\n",
       "      <th></th>\n",
       "      <th>0</th>\n",
       "    </tr>\n",
       "  </thead>\n",
       "  <tbody>\n",
       "    <tr>\n",
       "      <th>0</th>\n",
       "      <td>NaN</td>\n",
       "    </tr>\n",
       "    <tr>\n",
       "      <th>1</th>\n",
       "      <td>106240.0</td>\n",
       "    </tr>\n",
       "    <tr>\n",
       "      <th>2</th>\n",
       "      <td>104830.0</td>\n",
       "    </tr>\n",
       "    <tr>\n",
       "      <th>3</th>\n",
       "      <td>166480.0</td>\n",
       "    </tr>\n",
       "    <tr>\n",
       "      <th>4</th>\n",
       "      <td>45060.0</td>\n",
       "    </tr>\n",
       "    <tr>\n",
       "      <th>...</th>\n",
       "      <td>...</td>\n",
       "    </tr>\n",
       "    <tr>\n",
       "      <th>2738</th>\n",
       "      <td>394670.0</td>\n",
       "    </tr>\n",
       "    <tr>\n",
       "      <th>2739</th>\n",
       "      <td>2360.0</td>\n",
       "    </tr>\n",
       "    <tr>\n",
       "      <th>2740</th>\n",
       "      <td>3680.0</td>\n",
       "    </tr>\n",
       "    <tr>\n",
       "      <th>2741</th>\n",
       "      <td>95570.0</td>\n",
       "    </tr>\n",
       "    <tr>\n",
       "      <th>2742</th>\n",
       "      <td>25550.0</td>\n",
       "    </tr>\n",
       "  </tbody>\n",
       "</table>\n",
       "<p>2743 rows × 1 columns</p>\n",
       "</div>"
      ],
      "text/plain": [
       "             0\n",
       "0          NaN\n",
       "1     106240.0\n",
       "2     104830.0\n",
       "3     166480.0\n",
       "4      45060.0\n",
       "...        ...\n",
       "2738  394670.0\n",
       "2739    2360.0\n",
       "2740    3680.0\n",
       "2741   95570.0\n",
       "2742   25550.0\n",
       "\n",
       "[2743 rows x 1 columns]"
      ]
     },
     "execution_count": 20,
     "metadata": {},
     "output_type": "execute_result"
    }
   ],
   "source": [
    "pd.read_csv('고객국내주식.csv')"
   ]
  },
  {
   "cell_type": "code",
   "execution_count": null,
   "id": "66866d45",
   "metadata": {},
   "outputs": [],
   "source": []
  }
 ],
 "metadata": {
  "kernelspec": {
   "display_name": "Python 3",
   "language": "python",
   "name": "python3"
  },
  "language_info": {
   "codemirror_mode": {
    "name": "ipython",
    "version": 3
   },
   "file_extension": ".py",
   "mimetype": "text/x-python",
   "name": "python",
   "nbconvert_exporter": "python",
   "pygments_lexer": "ipython3",
   "version": "3.8.8"
  }
 },
 "nbformat": 4,
 "nbformat_minor": 5
}

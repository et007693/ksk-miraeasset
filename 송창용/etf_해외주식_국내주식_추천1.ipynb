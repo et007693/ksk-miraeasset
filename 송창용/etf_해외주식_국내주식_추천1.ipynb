{
 "cells": [
  {
   "cell_type": "code",
   "execution_count": null,
   "id": "1ad2ced3",
   "metadata": {},
   "outputs": [],
   "source": [
    "import pandas as pd\n",
    "import numpy as np\n",
    "import matplotlib as plt"
   ]
  },
  {
   "cell_type": "code",
   "execution_count": null,
   "id": "a3dfc8dd",
   "metadata": {},
   "outputs": [],
   "source": [
    "df1=pd.read_csv('D:/빅페/미빅페/df1.csv',index_col=0) #기본적인 전처리된 시장데이터"
   ]
  },
  {
   "cell_type": "code",
   "execution_count": null,
   "id": "8eda8518",
   "metadata": {},
   "outputs": [],
   "source": [
    "d1=df1[['BUY1_ITM_M1_1','BUY1_MKT_M1_1','BUY1_ITM_M1_2','BUY1_MKT_M1_2',\n",
    "        'BUY1_ITM_M1_3','BUY1_MKT_M1_3','BUY1_ITM_M2_1','BUY1_MKT_M2_1',\n",
    "    'BUY1_ITM_M2_2','BUY1_MKT_M2_2','BUY1_ITM_M2_3','BUY1_MKT_M2_3',\n",
    "    'BUY1_ITM_M3_1','BUY1_MKT_M3_1','BUY1_ITM_M3_2','BUY1_MKT_M3_2',\n",
    "    'BUY1_ITM_M3_3','BUY1_MKT_M3_3','BUY1_ITM_M4_1','BUY1_MKT_M4_1',\n",
    "    'BUY1_ITM_M4_2','BUY1_MKT_M4_2','BUY1_ITM_M4_3','BUY1_MKT_M4_3',\n",
    "    ]] #총 1등만 사용"
   ]
  },
  {
   "cell_type": "code",
   "execution_count": null,
   "id": "aa77e219",
   "metadata": {},
   "outputs": [],
   "source": [
    "##여기서부터 더 시작\n",
    "d1.to_csv('D:/빅페/미빅페/real2.csv',encoding='utf-8-sig')"
   ]
  },
  {
   "cell_type": "code",
   "execution_count": null,
   "id": "c3e3d038",
   "metadata": {},
   "outputs": [],
   "source": [
    "d1=pd.read_csv('D:/빅페/미빅페/real2.csv',index_col=0) #최종적으로 사용하는 BUY1~데이터 24개의 컬럼\n",
    "d1 = d1.replace('HLBZ', 'MCOM') #이름 변경\n",
    "d1"
   ]
  },
  {
   "cell_type": "code",
   "execution_count": null,
   "id": "0b85882c",
   "metadata": {},
   "outputs": [],
   "source": [
    "kor['종목코드'] = kor['종목코드'].apply(lambda x: str(x) if 'K' in str(x) or 'L' in str(x) else int(x))\n",
    "kor['종목코드'] = kor['종목코드'].astype(str) #우선주 및 데이터 타입 관리"
   ]
  },
  {
   "cell_type": "code",
   "execution_count": null,
   "id": "1d184c89",
   "metadata": {},
   "outputs": [],
   "source": [
    "def update_sector(row, i, j, k):\n",
    "    matching_value = None  #총 국내 코스닥 코스피, 해외 나스닥 외 7개 종목 사용\n",
    "    if row[f'BUY{i}_MKT_M{j}_{k}'] == '코스닥':\n",
    "        matching_value = kor2[kor2['종목코드'] == row[f'BUY{i}_ITM_M{j}_{k}']]['IndustryCode'].values\n",
    "    elif row[f'BUY{i}_MKT_M{j}_{k}'] == '코스피':\n",
    "        matching_value = kor2[kor2['종목코드'] == row[f'BUY{i}_ITM_M{j}_{k}']]['IndustryCode'].values\n",
    "    elif row[f'BUY{i}_MKT_M{j}_{k}'] == '나스닥':\n",
    "        matching_value = 해외3[해외3['Symbol'] == row[f'BUY{i}_ITM_M{j}_{k}']]['IndustryCode'].values\n",
    "    elif row[f'BUY{i}_MKT_M{j}_{k}'] == '뉴욕':\n",
    "        matching_value = 해외3[해외3['Symbol'] == row[f'BUY{i}_ITM_M{j}_{k}']]['IndustryCode'].values\n",
    "    elif row[f'BUY{i}_MKT_M{j}_{k}'] == '홍콩':\n",
    "        matching_value = 해외3[해외3['Symbol'] == row[f'BUY{i}_ITM_M{j}_{k}']]['IndustryCode'].values\n",
    "    elif row[f'BUY{i}_MKT_M{j}_{k}'] == '아멕스':\n",
    "        matching_value = 해외3[해외3['Symbol'] == row[f'BUY{i}_ITM_M{j}_{k}']]['IndustryCode'].values\n",
    "    elif row[f'BUY{i}_MKT_M{j}_{k}'] == '동경':\n",
    "        matching_value = 해외3[해외3['Symbol'] == row[f'BUY{i}_ITM_M{j}_{k}']]['IndustryCode'].values\n",
    "    elif row[f'BUY{i}_MKT_M{j}_{k}'] == '상해A':\n",
    "        matching_value = 해외3[해외3['Symbol'] == row[f'BUY{i}_ITM_M{j}_{k}']]['IndustryCode'].values\n",
    "    elif row[f'BUY{i}_MKT_M{j}_{k}'] == '상천A':\n",
    "        matching_value = 해외3[해외3['Symbol'] == row[f'BUY{i}_ITM_M{j}_{k}']]['IndustryCode'].values\n",
    "    elif row[f'BUY{i}_MKT_M{j}_{k}'] == '호치민':\n",
    "        matching_value = 해외3[해외3['Symbol'] == row[f'BUY{i}_ITM_M{j}_{k}']]['IndustryCode'].values\n",
    "        \n",
    "    if matching_value is not None and len(matching_value) > 0:\n",
    "        return matching_value[0]\n",
    "    return None\n",
    "\n",
    "# Apply the function using nested loops to create the 'SECTORijk' column\n",
    "for i in range(1, 2):  # i = 1\n",
    "    for j in range(1, 5):  # j = 1, 2, 3, 4\n",
    "        for k in range(1, 4):  # k = 1, 2, 3\n",
    "            column_name = f'SECTORBUY{i}{j}{k}'\n",
    "            d1[column_name] = d1.apply(update_sector, args=(i, j, k), axis=1)\n"
   ]
  },
  {
   "cell_type": "code",
   "execution_count": null,
   "id": "2e665546",
   "metadata": {},
   "outputs": [],
   "source": [
    "d1.to_csv('D:/빅페/미빅페/realv11.csv',encoding='utf-8-sig')#최종 저장."
   ]
  },
  {
   "cell_type": "code",
   "execution_count": null,
   "id": "a33cc04d",
   "metadata": {},
   "outputs": [],
   "source": []
  },
  {
   "cell_type": "code",
   "execution_count": null,
   "id": "e3c13ab2",
   "metadata": {},
   "outputs": [],
   "source": []
  },
  {
   "cell_type": "code",
   "execution_count": null,
   "id": "a15ff3d0",
   "metadata": {},
   "outputs": [],
   "source": []
  },
  {
   "cell_type": "code",
   "execution_count": null,
   "id": "d72b00c6",
   "metadata": {},
   "outputs": [],
   "source": []
  }
 ],
 "metadata": {
  "kernelspec": {
   "display_name": "Python 3 (ipykernel)",
   "language": "python",
   "name": "python3"
  },
  "language_info": {
   "codemirror_mode": {
    "name": "ipython",
    "version": 3
   },
   "file_extension": ".py",
   "mimetype": "text/x-python",
   "name": "python",
   "nbconvert_exporter": "python",
   "pygments_lexer": "ipython3",
   "version": "3.7.11"
  }
 },
 "nbformat": 4,
 "nbformat_minor": 5
}
